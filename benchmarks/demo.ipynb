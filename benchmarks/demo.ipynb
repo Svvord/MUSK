{
 "cells": [
  {
   "cell_type": "code",
   "execution_count": 1,
   "metadata": {},
   "outputs": [],
   "source": [
    "import json\n",
    "import os\n",
    "import subprocess\n",
    "\n",
    "# Function to load and display JSON results\n",
    "def load_and_print_results(file_path):\n",
    "    if os.path.exists(file_path):\n",
    "        # Read the file\n",
    "        with open(file_path) as f:\n",
    "            # Read each line and decode it as a separate JSON object\n",
    "            for line in f:\n",
    "                try:\n",
    "                    data = json.loads(line)\n",
    "                    print(data)\n",
    "                except json.JSONDecodeError as e:\n",
    "                    print(f\"Error decoding JSON: {e}\")\n",
    "                    \n",
    "    else:\n",
    "        print(f\"No results found at {file_path}\")\n",
    "\n",
    "# Function to run a command and print output\n",
    "def run_command(command):\n",
    "    result = subprocess.run(command, shell=True, capture_output=True, text=True)\n",
    "    print(result.stdout)\n",
    "    if result.stderr:\n",
    "        print(result.stderr)\n"
   ]
  },
  {
   "cell_type": "markdown",
   "metadata": {},
   "source": [
    "# Zero-shot cross-modal retrieval"
   ]
  },
  {
   "cell_type": "code",
   "execution_count": 2,
   "metadata": {},
   "outputs": [
    {
     "name": "stdout",
     "output_type": "stream",
     "text": [
      "Models: [['musk_large_patch16_384', '../musk/models/musk.pth']]\n",
      "Datasets: ['bookset_retrieval', 'pubmed_retrieval']\n",
      "Languages: ['en']\n",
      "Running 'zeroshot_retrieval' on 'bookset_retrieval' with the model '../musk/models/musk.pth' on language 'en'\n",
      "Load ckpt from ../musk/models/musk.pth\n",
      "Weights from pretrained model not used in MUSK: ['logit_scale_moco']\n",
      "Load 4265 image-text pairs from /mnt/sdd/data/downstreams/arch/books_set/books_set_retrieval.test.jsonl. \n",
      "Dataset size: 4265\n",
      "Dataset split: test\n",
      "Dump results to: ./results/benchmark_mm_retrieval.json\n",
      "Running 'zeroshot_retrieval' on 'pubmed_retrieval' with the model '../musk/models/musk.pth' on language 'en'\n",
      "Load ckpt from ../musk/models/musk.pth\n",
      "Weights from pretrained model not used in MUSK: ['logit_scale_moco']\n",
      "Load 3308 image-text pairs from /mnt/sdd/data/downstreams/arch/pubmed_set/pubmed_set_retrieval.test.jsonl. \n",
      "Dataset size: 3308\n",
      "Dataset split: test\n",
      "Dump results to: ./results/benchmark_mm_retrieval.json\n",
      "\n",
      "\n",
      "0it [00:00, ?it/s]\n",
      "1it [00:19, 19.65s/it]\n",
      "2it [00:26, 11.95s/it]\n",
      "3it [00:32,  9.52s/it]\n",
      "4it [00:39,  8.40s/it]\n",
      "5it [00:46,  7.80s/it]\n",
      "6it [00:53,  7.44s/it]\n",
      "7it [00:59,  7.23s/it]\n",
      "8it [01:06,  7.09s/it]\n",
      "9it [01:08,  5.60s/it]\n",
      "9it [01:09,  7.69s/it]\n",
      "\n",
      "0it [00:00, ?it/s]\n",
      "1it [00:13, 13.71s/it]\n",
      "2it [00:20,  9.62s/it]\n",
      "3it [00:27,  8.30s/it]\n",
      "4it [00:34,  7.71s/it]\n",
      "5it [00:40,  7.39s/it]\n",
      "6it [00:47,  7.20s/it]\n",
      "7it [00:50,  5.91s/it]\n",
      "7it [00:51,  7.31s/it]\n",
      "\n"
     ]
    }
   ],
   "source": [
    "command = (\n",
    "    \"python3 -m clip_benchmark.cli eval --pretrained_model models.txt \"\n",
    "    \"--dataset 'bookset_retrieval' 'pubmed_retrieval' \"\n",
    "    \"--task 'zeroshot_retrieval' \"\n",
    "    \"--batch_size 512 \"\n",
    "    \"--num_workers 16 \"\n",
    "    \"--seed 42 \"\n",
    "    \"--recall_k 1 10 50 \"\n",
    "    \"--dataset_root '' \"\n",
    "    \"--output './results/benchmark_mm_retrieval.json'\"\n",
    ")\n",
    "run_command(command)"
   ]
  },
  {
   "cell_type": "code",
   "execution_count": 3,
   "metadata": {},
   "outputs": [
    {
     "name": "stdout",
     "output_type": "stream",
     "text": [
      "{'dataset': 'bookset_retrieval', 'model': 'musk_large_patch16_384', 'pretrained': '../musk/models/musk.pth', 'task': 'zeroshot_retrieval', 'metrics': {'image_retrieval_recall@1': 0.09964829683303833, 'text_retrieval_recall@1': 0.09425556659698486, 'image_retrieval_recall@10': 0.3355216979980469, 'text_retrieval_recall@10': 0.31254395842552185, 'image_retrieval_recall@50': 0.5767878293991089, 'text_retrieval_recall@50': 0.5432590842247009}, 'language': 'en'}\n",
      "{'dataset': 'pubmed_retrieval', 'model': 'musk_large_patch16_384', 'pretrained': '../musk/models/musk.pth', 'task': 'zeroshot_retrieval', 'metrics': {'image_retrieval_recall@1': 0.17593711614608765, 'text_retrieval_recall@1': 0.19588875770568848, 'image_retrieval_recall@10': 0.40477630496025085, 'text_retrieval_recall@10': 0.42019346356391907, 'image_retrieval_recall@50': 0.6109431385993958, 'text_retrieval_recall@50': 0.6281741261482239}, 'language': 'en'}\n"
     ]
    }
   ],
   "source": [
    "load_and_print_results('./results/benchmark_mm_retrieval.json')"
   ]
  },
  {
   "cell_type": "markdown",
   "metadata": {},
   "source": [
    "# Few-shot classification"
   ]
  },
  {
   "cell_type": "code",
   "execution_count": null,
   "metadata": {},
   "outputs": [],
   "source": [
    "# Few-shot linear probe commands\n",
    "seed = 42\n",
    "k_shot = 10\n",
    "\n",
    "command = (\n",
    "    f\"python3 -m clip_benchmark.cli eval --pretrained_model models.txt \"\n",
    "    f\"--dataset 'nct_crc' 'pcam' 'skin' 'sicap' 'pannuke' 'unitopatho' 'wsss4luad' 'osteo' 'lc25' 'renal_cell' 'bracs6cls' 'bracs3cls' \"\n",
    "    f\"--task 'linear_probe' \"\n",
    "    f\"--batch_size 512 \"\n",
    "    f\"--num_workers 16 \"\n",
    "    f\"--fewshot_k {k_shot} \"\n",
    "    f\"--seed {seed} \"\n",
    "    f\"--dataset_root '' \"\n",
    "    f\"--output './results/benchmark_fs_{k_shot}shot_seed{seed}.json'\"\n",
    ")\n",
    "\n",
    "run_command(command)\n"
   ]
  },
  {
   "cell_type": "code",
   "execution_count": null,
   "metadata": {},
   "outputs": [],
   "source": [
    "load_and_print_results(f'./results/benchmark_fs_{k_shot}shot_seed{seed}.json')"
   ]
  },
  {
   "cell_type": "markdown",
   "metadata": {},
   "source": [
    "# Linear probe classification"
   ]
  },
  {
   "cell_type": "code",
   "execution_count": null,
   "metadata": {},
   "outputs": [],
   "source": [
    "# Linear probe commands\n",
    "seed = 123\n",
    "\n",
    "command = (\n",
    "    f\"python3 -m clip_benchmark.cli eval --pretrained_model models.txt \"\n",
    "    f\"--dataset 'nct_crc' 'pcam' 'skin' 'sicap' 'pannuke' 'unitopatho' 'wsss4luad' 'osteo' 'lc25' 'renal_cell' 'bracs6cls' 'bracs3cls' \"\n",
    "    f\"--task 'linear_probe' \"\n",
    "    f\"--batch_size 1024 \"\n",
    "    f\"--num_workers 8 \"\n",
    "    f\"--fewshot_k -1 \"\n",
    "    f\"--seed {seed} \"\n",
    "    f\"--dataset_root '' \"\n",
    "    f\"--output './results/linear_probe_{seed}.json'\"\n",
    ")\n",
    "\n",
    "run_command(command)\n"
   ]
  },
  {
   "cell_type": "code",
   "execution_count": null,
   "metadata": {},
   "outputs": [],
   "source": [
    "load_and_print_results(f'./results/linear_probe_{seed}.json')"
   ]
  },
  {
   "cell_type": "markdown",
   "metadata": {},
   "source": [
    "# Image-image retrieval"
   ]
  },
  {
   "cell_type": "code",
   "execution_count": null,
   "metadata": {},
   "outputs": [],
   "source": [
    "command = (\n",
    "    \"python3 -m clip_benchmark.cli eval --pretrained_model models.txt \"\n",
    "    \"--dataset 'unitopatho_retrieval' 'bracs_retrieval' \"\n",
    "    \"--task 'image_retrieval' \"\n",
    "    \"--batch_size 512 \"\n",
    "    \"--num_workers 16 \"\n",
    "    \"--seed 41 \"\n",
    "    \"--dataset_root '' \"\n",
    "    \"--output './results/benchmark_image_retrieval.json'\"\n",
    ")\n",
    "run_command(command)\n"
   ]
  },
  {
   "cell_type": "code",
   "execution_count": null,
   "metadata": {},
   "outputs": [],
   "source": [
    "load_and_print_results('./results/benchmark_image_retrieval.json')"
   ]
  },
  {
   "cell_type": "markdown",
   "metadata": {},
   "source": [
    "# Zero-shot classification"
   ]
  },
  {
   "cell_type": "code",
   "execution_count": null,
   "metadata": {},
   "outputs": [],
   "source": [
    "command = (\n",
    "    \"python3 -m clip_benchmark.cli eval --pretrained_model models.txt \"\n",
    "    \"--dataset 'nct_crc' 'pcam' 'skin' 'sicap' 'pannuke' 'unitopatho' 'wsss4luad' 'osteo' 'lc25' 'renal_cell' 'bracs6cls' 'bracs3cls' \"\n",
    "    \"--task 'zeroshot_classification' \"\n",
    "    \"--batch_size 512 \"\n",
    "    \"--dataset_root '' \"\n",
    "    \"--output './results/benchmark_zeroshot_cls.json'\"\n",
    ")\n",
    "run_command(command)\n"
   ]
  },
  {
   "cell_type": "code",
   "execution_count": null,
   "metadata": {},
   "outputs": [],
   "source": [
    "load_and_print_results('./results/benchmark_zeroshot_cls.json')"
   ]
  }
 ],
 "metadata": {
  "kernelspec": {
   "display_name": "Python 3",
   "language": "python",
   "name": "python3"
  },
  "language_info": {
   "codemirror_mode": {
    "name": "ipython",
    "version": 3
   },
   "file_extension": ".py",
   "mimetype": "text/x-python",
   "name": "python",
   "nbconvert_exporter": "python",
   "pygments_lexer": "ipython3",
   "version": "3.10.12"
  }
 },
 "nbformat": 4,
 "nbformat_minor": 2
}
