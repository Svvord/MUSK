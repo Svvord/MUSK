{
 "cells": [
  {
   "cell_type": "code",
   "execution_count": null,
   "metadata": {},
   "outputs": [],
   "source": [
    "# Few-shot linear probe commands\n",
    "k_shot = 4  # chaneg this for different shot\n",
    "\n",
    "command.append(\n",
    "    f\"python3 -m clip_benchmark.cli eval --pretrained_model models.txt \"\n",
    "    f\"--dataset 'nct_crc' 'pcam' 'skin' 'sicap' 'pannuke' 'unitopatho' 'wsss4luad' 'osteo' 'lc25' 'renal_cell' 'bracs6cls' 'bracs3cls' \"\n",
    "    f\"--task 'linear_probe' \"\n",
    "    f\"--batch_size 512 \"\n",
    "    f\"--num_workers 16 \"\n",
    "    f\"--fewshot_k {k_shot} \"\n",
    "    f\"--seed 42 \"\n",
    "    f\"--dataset_root '' \"\n",
    "    f\"--output './results/benchmark_fs_{k_shot}shot_seed{seed}.json'\"\n",
    ")\n",
    "\n",
    "\n",
    "run_command(command)\n"
   ]
  }
 ],
 "metadata": {
  "language_info": {
   "name": "python"
  }
 },
 "nbformat": 4,
 "nbformat_minor": 2
}
